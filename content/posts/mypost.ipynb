{
 "cells": [
  {
   "cell_type": "code",
   "execution_count": 1,
   "metadata": {},
   "outputs": [
    {
     "data": {
      "text/plain": [
       "4"
      ]
     },
     "execution_count": 1,
     "metadata": {},
     "output_type": "execute_result"
    }
   ],
   "source": [
    "2 + 2"
   ]
  },
  {
   "cell_type": "markdown",
   "metadata": {
    "collapsed": true
   },
   "source": [
    "$$c = \\sqrt{a^2 + b^2}$$"
   ]
  },
  {
   "cell_type": "markdown",
   "metadata": {
    "collapsed": true
   },
   "source": [
    "## How about some markdown?\n",
    "\n",
    "Can we add `markdown` here?\n",
    "\n",
    "Is all works well and good but if we let the line go for long enough we may see that it doesn't wrap appropriately. Will this wrap?"
   ]
  },
  {
   "cell_type": "code",
   "execution_count": 1,
   "metadata": {
    "collapsed": true
   },
   "outputs": [],
   "source": [
    "#and so that was fine but what about this?\n",
    "\n",
    "some_long_test_array = [1,2,3,4,5,500000000, 600000000, 70000000, 75000000, 800000000, 8500000, 9000000, 10000000, 110000]"
   ]
  },
  {
   "cell_type": "code",
   "execution_count": 2,
   "metadata": {},
   "outputs": [
    {
     "data": {
      "text/plain": [
       "[1,\n",
       " 2,\n",
       " 3,\n",
       " 4,\n",
       " 5,\n",
       " 500000000,\n",
       " 600000000,\n",
       " 70000000,\n",
       " 75000000,\n",
       " 800000000,\n",
       " 8500000,\n",
       " 9000000,\n",
       " 10000000,\n",
       " 110000]"
      ]
     },
     "execution_count": 2,
     "metadata": {},
     "output_type": "execute_result"
    }
   ],
   "source": [
    "some_long_test_array"
   ]
  },
  {
   "cell_type": "code",
   "execution_count": 6,
   "metadata": {
    "collapsed": true
   },
   "outputs": [],
   "source": [
    "from sympy import *"
   ]
  },
  {
   "cell_type": "code",
   "execution_count": 7,
   "metadata": {
    "collapsed": true
   },
   "outputs": [],
   "source": [
    "x, y, z = symbols('x y z')"
   ]
  },
  {
   "cell_type": "code",
   "execution_count": 8,
   "metadata": {},
   "outputs": [
    {
     "data": {
      "text/plain": [
       "x"
      ]
     },
     "execution_count": 8,
     "metadata": {},
     "output_type": "execute_result"
    }
   ],
   "source": [
    "x"
   ]
  },
  {
   "cell_type": "code",
   "execution_count": 9,
   "metadata": {},
   "outputs": [
    {
     "data": {
      "text/plain": [
       "-sin(x)"
      ]
     },
     "execution_count": 9,
     "metadata": {},
     "output_type": "execute_result"
    }
   ],
   "source": [
    "diff(cos(x), x)"
   ]
  },
  {
   "cell_type": "code",
   "execution_count": 10,
   "metadata": {
    "collapsed": true
   },
   "outputs": [],
   "source": [
    "integ = Integral(x**y*exp(-x), (x, 0, oo))"
   ]
  },
  {
   "cell_type": "code",
   "execution_count": 11,
   "metadata": {},
   "outputs": [
    {
     "data": {
      "text/plain": [
       "Integral(x**y*exp(-x), (x, 0, oo))"
      ]
     },
     "execution_count": 11,
     "metadata": {},
     "output_type": "execute_result"
    }
   ],
   "source": [
    "integ"
   ]
  },
  {
   "cell_type": "code",
   "execution_count": 12,
   "metadata": {
    "collapsed": true
   },
   "outputs": [],
   "source": [
    "init_printing()"
   ]
  },
  {
   "cell_type": "code",
   "execution_count": 13,
   "metadata": {},
   "outputs": [
    {
     "data": {
      "image/png": "[encoded data removed]",
      "text/latex": [
       "$$\\int_{0}^{\\infty} x^{y} e^{- x}\\, dx$$"
      ],
      "text/plain": [
       "∞          \n",
       "⌠          \n",
       "⎮  y  -x   \n",
       "⎮ x ⋅ℯ   dx\n",
       "⌡          \n",
       "0          "
      ]
     },
     "execution_count": 13,
     "metadata": {},
     "output_type": "execute_result"
    }
   ],
   "source": [
    "integ"
   ]
  },
  {
   "cell_type": "code",
   "execution_count": 14,
   "metadata": {},
   "outputs": [
    {
     "name": "stdout",
     "output_type": "stream",
     "text": [
      "Package            Version    \n",
      "------------------ -----------\n",
      "bleach             2.0.0      \n",
      "blinker            1.4        \n",
      "certifi            2017.4.17  \n",
      "chardet            3.0.4      \n",
      "cycler             0.10.0     \n",
      "decorator          4.0.11     \n",
      "docutils           0.13.1     \n",
      "entrypoints        0.2.2      \n",
      "feedgenerator      1.9        \n",
      "html5lib           0.999999999\n",
      "idna               2.5        \n",
      "ipykernel          4.6.1      \n",
      "ipython            6.1.0      \n",
      "ipython-genutils   0.2.0      \n",
      "ipywidgets         6.0.0      \n",
      "jedi               0.10.2     \n",
      "Jinja2             2.9.6      \n",
      "jsonschema         2.6.0      \n",
      "jupyter            1.0.0      \n",
      "jupyter-client     5.0.1      \n",
      "jupyter-console    5.1.0      \n",
      "jupyter-core       4.3.0      \n",
      "Markdown           2.6.8      \n",
      "MarkupSafe         1.0        \n",
      "matplotlib         2.0.2      \n",
      "mistune            0.7.4      \n",
      "mpmath             0.19       \n",
      "nbconvert          5.2.1      \n",
      "nbformat           4.3.0      \n",
      "notebook           5.0.0      \n",
      "numpy              1.12.1     \n",
      "pandas             0.20.1     \n",
      "pandocfilters      1.4.1      \n",
      "pelican            3.7.1      \n",
      "pexpect            4.2.1      \n",
      "pickleshare        0.7.4      \n",
      "pip                9.0.1      \n",
      "plotly             2.0.12     \n",
      "prompt-toolkit     1.0.14     \n",
      "ptyprocess         0.5.1      \n",
      "Pygments           2.2.0      \n",
      "pyparsing          2.2.0      \n",
      "python-dateutil    2.6.0      \n",
      "pytz               2017.2     \n",
      "pyzmq              16.0.2     \n",
      "qtconsole          4.3.0      \n",
      "requests           2.18.1     \n",
      "scikit-learn       0.18.1     \n",
      "setuptools         20.7.0     \n",
      "simplegeneric      0.8.1      \n",
      "six                1.10.0     \n",
      "sympy              1.1        \n",
      "terminado          0.6        \n",
      "testpath           0.3.1      \n",
      "tornado            4.5.1      \n",
      "traitlets          4.3.2      \n",
      "Unidecode          0.4.21     \n",
      "urllib3            1.21.1     \n",
      "wcwidth            0.1.7      \n",
      "webencodings       0.5.1      \n",
      "wheel              0.29.0     \n",
      "widgetsnbextension 2.0.0      \n"
     ]
    }
   ],
   "source": [
    "%%bash\n",
    "\n",
    "pip3 list --format=columns"
   ]
  },
  {
   "cell_type": "code",
   "execution_count": null,
   "metadata": {
    "collapsed": true
   },
   "outputs": [],
   "source": []
  }
 ],
 "metadata": {
  "kernelspec": {
   "display_name": "Python 3",
   "language": "python",
   "name": "python3"
  },
  "language_info": {
   "codemirror_mode": {
    "name": "ipython",
    "version": 3
   },
   "file_extension": ".py",
   "mimetype": "text/x-python",
   "name": "python",
   "nbconvert_exporter": "python",
   "pygments_lexer": "ipython3",
   "version": "3.5.2"
  }
 },
 "nbformat": 4,
 "nbformat_minor": 2
}
